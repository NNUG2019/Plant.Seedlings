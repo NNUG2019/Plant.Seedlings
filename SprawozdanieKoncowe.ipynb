{
 "cells": [
  {
   "cell_type": "markdown",
   "metadata": {},
   "source": [
    "# Sprawozdanie z laboratorium - sieci neuronowe\n",
    "\n",
    "Temat: Plant Seedlings Classification\n",
    "\n",
    "Skład grupy: Julia Blicharska, Weronika Deleżuch, Aleksandra Zalewska"
   ]
  },
  {
   "cell_type": "markdown",
   "metadata": {},
   "source": [
    "## Opis zadania\n",
    "\n",
    "Celem jest stworzenie klasyfikatora, który będzie rozpoznawał gatunek sadzonki na podstawie zdjęcia i przypisywał mu odpowiednią nazwę.\n",
    "\n",
    "\n",
    "\n",
    "\n",
    "\n",
    "\n",
    "\n",
    "\n"
   ]
  },
  {
   "cell_type": "markdown",
   "metadata": {},
   "source": [
    "## Dane\n",
    "\n",
    "Danymi, nad którymi pracujemy jest zestaw treningowy i zestaw testowy zdjęć sadzonek roślin na różnych etapach rozwoju.\n",
    "\n",
    "Każdy obraz ma nazwę pliku, która jest jego unikalnym identyfikatorem.\n", 
    "\n",
    "Zestaw danych obejmuje 12 gatunków roślin. Lista gatunków jest następująca:\n",
    "\n",
    "• Black-grass (Konwalnik płaskopędowy)\n", 
    "\n",
    "• Charlock (Gorczyca polna)\n",
    "\n",
    "• Cleavers (Przytulia czepna)\n",
    "\n",
    "• Common Chickweed (Gwiazdnica pospolita)\n",
    "\n",
    "• Common wheat (Pszenica zwyczajna)\n",
    "\n",
    "• Fat Hen (Komosa biała)\n",
    "\n",
    "• Loose Silky-bent (Miotła zbożowa)\n",
    "\n",
    "• Maize (Kukurydza zwyczajna)\n",
    "\n",
    "• Scentless Mayweed (Maruna nadmorska)\n",
    "\n",
    "• Shepherds Purse (Tasznik pospolity)\n",
    "\n",
    "• Small-flowered Cranesbill (Bodziszek drobny)\n",
    "\n",
    "• Sugar beet (Burak cukrowy)\n",
    "\n"
   ]
  },
  {
   "cell_type": "markdown",
   "metadata": {},
   "source": [
    "### Źródła danych\n",
    "\n",
    "Dane pochodzą z platformy Kaggle. Są ogólnodostępne dla każdego po utworzeniu konta na Kaggle.\n",
    "\n",
    "Link do strony z danymi: https://www.kaggle.com/c/plant-seedlings-classification/data ."
   ]
  },
  {
   "cell_type": "markdown",
   "metadata": {},
   "source": [
    "## Model\n",
    "\n",
    "https://www.kaggle.com/weronikadeleuch/kernel60724a866f\n",
    "\n",
    "### Wczytanie danych\n",
    "\n",
    "### Pobranie bibliotek\n",
    "\n",
    "### Nadanie klas zdjęciom \n",
    "\n",
    "### Ustawienie jednakowych rozmiarów dla wszystkich zdjęć \n",
    "\n",
    "### Dane treningowe \n",
    "\n",
    "### Dane testowe \n",
    "\n",
    "### Opis\n",
    "Ta sieć jest siecią SFL - Super Fast Learning. Wybraliśmy ją z powodu szybkiego czasu nauki sieci.\n",
    "Nasz model zamienia dodane zdjęcia na macierze i na ich podstawi ocenia, która to roślina.\n",
    "\n",
    "### Działanie\n",
    "\n",
    "Aby uruchomić model trzeba wczytać dane, wgrać odpowiednie biblioteki, wybrać część danych jako dane treningowe i część jako dane testowe."
   ]
  },
  {
   "cell_type": "markdown",
   "metadata": {},
   "source": [
    "## Podsumowanie\n",
    "\n",
    "W ćwiczeniu najtrudniejsze było wczytanie danych we wcześniejszym temacie projektu, który ostatecznie musiał zostać zmieniony. W projekcie na temat sadzonek najtrudniejsze było zaplanowanie wszystkiego tak, aby wyrobić się w określonym czasie. Problemy były też przy pisaniu sprawozdania, ponieważ nie do końca wiedziałyśmy co powinno się tu znaleźć."
   ]
  }
 ],
 "metadata": {
  "kernelspec": {
   "display_name": "Python 3",
   "language": "python",
   "name": "python3"
  },
  "language_info": {
   "codemirror_mode": {
    "name": "ipython",
    "version": 3
   },
   "file_extension": ".py",
   "mimetype": "text/x-python",
   "name": "python",
   "nbconvert_exporter": "python",
   "pygments_lexer": "ipython3",
   "version": "3.7.4"
  }
 },
 "nbformat": 4,
 "nbformat_minor": 4
}

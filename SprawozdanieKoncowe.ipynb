{
 "cells": [
  {
   "cell_type": "markdown",
   "metadata": {},
   "source": [
    "# Sprawozdanie z laboratorium - sieci neuronowe\n",
    "\n",
    "Temat: Plant Seedlings Classification\n",
    "\n",
    "Skład grupy: Julia Blicharska, Weronika Deleżuch, Aleksandra Zalewska"
   ]
  },
  {
   "cell_type": "markdown",
   "metadata": {},
   "source": [
    "## Opis zadania\n",
    "\n",
    "Celem jest stworzenie klasyfikatora, który będzie rozpoznawał gatunek sadzonki na podstawie zdjęcia i przypisywał mu odpowiednią nazwę.\n",
    "\n",
    "\n",
    "\n",
    "\n", 
    "\n",
    "\n",
    "\n",
    "\n"
   ]
  },
  {
   "cell_type": "markdown",
   "metadata": {},
   "source": [
    "## Dane\n",
    "\n",
    "Danymi, nad którymi pracujemy jest zestaw treningowy i zestaw testowy zdjęć sadzonek roślin na różnych etapach rozwoju.\n",
    "\n",
    "Każdy obraz ma nazwę pliku, która jest jego unikalnym identyfikatorem.\n", 
    "\n",
    "Zestaw danych obejmuje 12 gatunków roślin. Lista gatunków jest następująca:\n",
    "\n",
    "• Black-grass (Konwalnik płaskopędowy)\n", 
    "\n",
    "• Charlock (Gorczyca polna)\n",
    "\n",
    "• Cleavers (Przytulia czepna)\n",
    "\n",
    "• Common Chickweed (Gwiazdnica pospolita)\n",
    "\n",
    "• Common wheat (Pszenica zwyczajna)\n",
    "\n",
    "• Fat Hen (Komosa biała)\n",
    "\n",
    "• Loose Silky-bent (Miotła zbożowa)\n",
    "\n",
    "• Maize (Kukurydza zwyczajna)\n",
    "\n",
    "• Scentless Mayweed (Maruna nadmorska)\n",
    "\n",
    "• Shepherds Purse (Tasznik pospolity)\n",
    "\n",
    "• Small-flowered Cranesbill (Bodziszek drobny)\n",
    "\n",
    "• Sugar beet (Burak cukrowy)\n",
    "\n"
   ]
  },
  {
   "cell_type": "markdown",
   "metadata": {},
   "source": [
    "### Analiza danych\n",
    "\n",
    "Dane treningowe.\n",
    "\n",
    "Mamy 4763 zdjęć sadzonek, które są podzielone na foldery pod względem gatunków.\n",
    "\n",
    "Ilość zdjęć w każdym z folderów:\n",
    "\n",
    "• Black-grass (Konwalnik płaskopędowy)  - 263\n",
    "\n",
    "• Charlock (Gorczyca polna) - 390\n",
    "\n",
    "• Cleavers (Przytulia czepna) - 287\n",
    "\n",
    "• Common Chickweed (Gwiazdnica pospolita) - 611\n",
    "\n",
    "• Common wheat (Pszenica zwyczajna) - 221\n",
    "\n",
    "• Fat Hen (Komosa biała) - 475\n",
    "\n",
    "• Loose Silky-bent (Miotła zbożowa) - 654\n",
    "\n",
    "• Maize (Kukurydza zwyczajna) - 221\n",
    "\n",
    "• Scentless Mayweed (Maruna nadmorska) - 516\n",
    "\n",
    "• Shepherds Purse (Tasznik pospolity) - 231\n",
    "\n",
    "• Small-flowered Cranesbill (Bodziszek drobny) - 495\n",
    "\n",
    "• Sugar beet (Burak cukrowy) - 386\n",
    "\n",
    "Dane testowe.\n",
    "\n",
    "W tej grupie znajduje się 794 zdjęć. Będziemy na nich sprawdzać czy nasz model został dobrze wytrenowany i czy sieć działa poprawnie.\n",
    "\n"
   ]
  },
  {
   "cell_type": "markdown",
   "metadata": {},
   "source": [
    "## Model\n",
    "\n",
    "Do naszego zadania wybrałyśmy sieć konwolucyjną - CNN. Jest to struktura, która bardzo dobrze sprawdza się w zadaniach dotyczących rozpoznawania i klasyfikacji obrazów. Dzieje się tak, ponieważ głębokie sieci konwolucyjne (CNN) potrafią stopniowo filtrować różne części danych uczących i wyostrzać ważne cechy w procesie dyskryminacji wykorzystanym do rozpoznawania lub klasyfikacji wzorców. Pozwala to na znajdowanie najważniejszych elementów na danym zdjęciu sadzonki i dobrym dopasowaniu gatunku rośliny.\n",
    "\n",
    "### Działanie\n",
    "\n",
    "Wczytanie danych.\n",
    "\n",
    "Oczyszczamy zdjęcia usuwając z nich szum tak, aby zostały tylko elementy zielone.\n",
    "\n",
    "Przybliżamy obrazki, wyostrzamy je oraz dzielimy.\n",
    "\n"
   ]
  },
  {
   "cell_type": "code",
   "execution_count": 1,
   "metadata": {},
   "outputs": [],
   "source": [
    "import os\n",
    "for dirname, _, filenames in os.walk('/kaggle/input'):\n",
    "for filename in filenames:\n",
    " print(os.path.join(dirname, filename))"
   ]
  },
  {
   "cell_type": "code",
   "execution_count": 2,
   "metadata": {},
   "outputs": [],
   "source": [
    "aug = ImageDataGenerator(rotation_range=30, width_shift_range=0.1, \\n",
    "height_shift_range=0.1, shear_range=0.2, zoom_range=0.2,\\n",
    "horizontal_flip=True, fill_mode="nearest")"
   ]
  },
  {
   "cell_type": "code",
   "execution_count":  3,
   "metadata": {},
   "outputs": [],
   "source": [
    "history = model.fit_generator(aug.flow(X_train, Y_train, batch_size=BATCH_SIZE), \\n",
    "validation_data=(X_val, Y_val), \\n",
    " steps_per_epoch=len(X_train) // BATCH_SIZE, epochs=EPOCHS, verbose=1)"
   ]
  },
  {
   "cell_type": "markdown",
   "metadata": {},
   "source": [
    "Pobranie bibliotek.\n",
    "\n",
    "Importujemy pakiety niezbędne do stworzenia sieci.\n",
    "\n"
   ]
  },
  {
   "cell_type": "code",
   "execution_count": 4,
   "metadata": {},
   "outputs": [],
   "source": [
    "import matplotlib\n",
    "matplotlib.use("Agg")\n",
    "plt.style.use("ggplot")\n",
    "plt.figure(figsize=(20,12)),\n",
    "plt.plot(np.arange(0, EPOCHS), history.history["loss"], label="train_loss")\n",
    "plt.plot(np.arange(0, EPOCHS), history.history["val_loss"], label="val_loss")\n",
    "plt.plot(np.arange(0, EPOCHS), history.history["accuracy"], label="train_acc")\n",
    "plt.plot(np.arange(0, EPOCHS), history.history["val_accuracy"], label="val_acc")\n",
    "plt.title("Training Loss and Accuracy on  crop classification")\n",
    "plt.xlabel("Epoch Number")\n",
    "plt.ylabel("Loss/Accuracy")\n",
    "plt.legend(loc="lower left")\n",
    "plt.show()"
   ]
  },
   {
   "cell_type": "code",
   "execution_count": 5,
   "metadata": {},
   "outputs": [],
   "source": [
    "from keras.models import Sequential \n",
    "from keras.layers.convolutional import Conv2D, MaxPooling2D \n",
    "from keras.layers.core import Activation, Flatten, Dense \n",
    "from keras.layers import BatchNormalization\n",
    "from keras.preprocessing.image import ImageDataGenerator, array_to_img, img_to_array, load_img \n",
    "from keras.optimizers import Adam \n",
    "from sklearn.model_selection import train_test_split \n",
    "import numpy as np\n",
    "import random \n",
    "import os \n",
    "import sys \n",
    "import cv2 \n",
    "from keras.utils import to_categorical \n",
    "import matplotlib.pyplot as plt"
   ]
  },
   {
   "cell_type": "markdown",
   "metadata": {},
   "source": [
    "Nadanie klas zdjęciom.\n",
    "\n",
    "Przyporządkowuje to numer do gatunku rośliny, a po rozpoznaniu rośliny utworzona sieć da nam jej nazwę.\n",
    "\n"
   ]
  },
   {
   "cell_type": "code",
   "execution_count": 6,
   "metadata": {},
   "outputs": [],
   "source": [
    "def classes_to_int(label): \n",
    "label = label.strip() \n",
    "if label == "Black-grass":  return 0\n",
    "if label == "Charlock":  return 1\n",
    "if label == "Cleavers":  return 2 \n",
    "if label == "Common Chickweed":  return 3 \n",
    "if label == "Common wheat":  return 4 \n",
    "if label == "Fat Hen":  return 5\n",
    "if label == "Loose Silky-bent": return 6\n",
    "if label == "Maize":  return 7\n",
    "if label == "Scentless Mayweed": return 8\n",
    "if label == "Shepherds Purse": return 9\n",
    "if label == "Small-flowered Cranesbill": return 10\n",
    "if label == "Sugar beet": return 11\n",
    "print("Invalid Label", label)\n",
    "return 12"
   ]
  },
  {
   "cell_type": "code",
   "execution_count": 7,
   "metadata": {},
   "outputs": [],
   "source": [
    "def int_to_classes(i):\n",
    "label = label.strip() \n",
    "if i == 0: return "Black-grass"\n",
    "elif i == 1: return "Charlock"\n",
    "elif i == 2: return "Cleavers"\n",
    "elif i == 3: return "Common Chickweed"\n",
    "elif i == 4: return "Common wheat" \n",
    "elif i == 5: return "Fat Hen"\n",
    "elif i == 6: return "Loose Silky-bent"\n",
    "elif i == 7: return "Maize"\n",
    "elif i == 8: return "Scentless Mayweed"\n",
    "elif i == 9: return "Shepherds Purse"\n",
    "elif i == 10: return "Small-flowered Cranesbill"\n",
    "elif i == 11: return "Sugar beet"\n",
    "print("Invalid class ", i)\n",
    "return "Invalid Class""
    ]
  },
   {
    "cell_type": "markdown",
   "metadata": {},
   "source": [
    "Ustawienie jednakowych rozmiarów dla wszystkich zdjęć.\n",
    "\n"
     ]
  },
   {
   "cell_type": "code",
   "execution_count": 8,
   "metadata": {},
   "outputs": [],
   "source": [
    "TEST_DIR = "../input/plant-seedlings-classification/test/"\n",
    "NUM_CLASSES = 12\n",
    "WIDTH = 128\n",
    "HEIGHT = 128\n",
    "DEPTH = 3\n",
    "INPUT_SHAPE = (WIDTH, HEIGHT, DEPTH)\n",
    "EPOCHS = 25\n",
    "INIT_LR = 1e-3\n",
    "BATCH_SIZE = 32"
   ]
  },
   {
    "cell_type": "markdown",
   "metadata": {},
   "source": [
    "Model i dane treningowe\n",
    "\n"
   ]
  },
   {
   "cell_type": "code",
   "execution_count": 9,
   "metadata": {},
   "outputs": [],
   "source": [
    "def readTrainData(trainDir):\n",
    "data = []\n",
    "labels = []\n",
    "dirs = os.listdir(trainDir)\n",
    "for directory in dirs:\n",
    "absDirPath = os.path.join(trainDir, directory)\n",
    "images = os.listdir(absDirPath)\n",
    "for imageFileName in images:\n",
    "imageFullPath = os.path.join(trainDir, directory, imageFileName)\n",
    "img = load_img(imageFullPath)\n",
    "arr = img_to_array(img)  # Numpy array with shape (233,233,3)\n",
    "arr = cv2.resize(arr, (HEIGHT,WIDTH)) #Numpy array with shape (HEIGHT, WIDTH,3)\n",
    "#print(arr.shape)\n",
    "data.append(arr)\n",
    "label = classes_to_int(directory)\n",
    "labels.append(label)\n",
    "return data, labels"
   ]
  },
  {
   "cell_type": "code",
   "execution_count": 10,
   "metadata": {},
   "outputs": [],
   "source": [
    "def createModel():\n",
    "model = Sequential()\n",
    "model.add(Conv2D(32, (3,3), padding="same", input_shape=INPUT_SHAPE))\n",
    "model.add(Activation("relu"))\n",
    "model.add(MaxPooling2D(pool_size=(2, 2), strides=(2, 2)))\n",
    "model.add(Conv2D(64, (3,3), padding="same"))\n",
    "model.add(Activation("relu"))\n",
    "model.add(MaxPooling2D(pool_size=(2, 2), strides=(2, 2)))\n",
    "model.add(Conv2D(128, (3,3), padding="same"))\n",
    "model.add(Activation("relu"))\n",
    "model.add(MaxPooling2D(pool_size=(2, 2), strides=(2, 2)))\n",
    "model.add(Flatten())\n",
    "model.add(Dense(units=500))\n",
    "model.add(Activation("relu"))\n",
    "model.add(Dense(units=12))\n",
    "model.add(Activation("softmax"))\n",
    "opt = Adam(lr=INIT_LR, decay=INIT_LR / EPOCHS)\n",
    "model.compile(loss="categorical_crossentropy", optimizer=opt, metrics=["accuracy"])\n",
    "return model"
   ]
  },
   {
   "cell_type": "code",
   "execution_count": 11,
   "metadata": {},
   "outputs": [],
   "source": [
    "X, Y = readTrainData("../input/plant-seedlings-classification/train/")\n",
    "X = np.array(X, dtype="float") / 255.0\n",
    "Y = np.array(Y)\n",
    "Y =  to_categorical(Y, num_classes=12)"
   ]
  },
   {
   "cell_type": "code",
   "execution_count": 12,
   "metadata": {},
   "outputs": [],
   "source": [
    "print("Parttition data into 75:25...")\n",
    "(X_train, X_val, Y_train, Y_val) = train_test_split(X,Y,test_size=0.25, random_state=25)"
   ]
  },
    {
   "cell_type": "code",
   "execution_count": 13,
   "metadata": {},
   "outputs": [],
   "source": [
    "model = createModel()"
   ]
  },
   {
   "cell_type": "code",
   "execution_count": 14,
   "metadata": {},
   "outputs": [],
   "source": [
    "mdef predict_image_name(image_name):\n",
    "image_path = os.path.join(TEST_DIR, image_name)\n",
    "img = load_img(image_path)\n",
    "img_arr = img_to_array(img)\n",
    "img_arr = cv2.resize(img_a, (HEIGHT, WIDTH))\n",
    "if len(x.shape) == 3:\n",
    "img_arr = np.expand_dims(img_a, axis=0)\n",
    "prediction = model.predict(img_a)\n",
    "idx = np.argmax(prediction)\n",
    "return int_to_classes(idx)"
   ]
  },
   {
   "cell_type": "code",
   "execution_count": 15,
   "metadata": {},
   "outputs": [],
   "source": [
    "def predict_image_array(x):\n",
    "if len(x.shape) == 3:\n",
    "x = np.expand_dims(x, axis=0)\n",
    "prediction = model.predict(x)\n",
    "idx = np.argmax(prediction)\n",
    "return int_to_classes(idx)"
   ]
  },
   {
   "cell_type": "code",
   "execution_count": 16,
   "metadata": {},
   "outputs": [],
   "source": [
    "prediction = predict_image_array(X_train[12])\n",
    "prediction"
   ]
  },
  {
   "cell_type": "markdown",
   "metadata": {},
   "source": [
    "## Podsumowanie\n",
    "\n",
    "Udało nam się stworzyć model, który rozpoznaje gatunek sadzonki widocznej na zdjęciu i podaje jego nazwę. Jest nauczony rozpoznawać aż 12 gatunków roślin na różnych etapach rozwoju. Po przetestowaniu modelu mamy pewność, że jest on dokładny i nie powinien robić wielu błędów przy klasyfikacji roślin.\n",
    "\n"
   ]
  }
 ],
 "metadata": {
  "kernelspec": {
   "display_name": "Python 3",
   "language": "python",
   "name": "python3"
  },
  "language_info": {
   "codemirror_mode": {
    "name": "ipython",
    "version": 3
   },
   "file_extension": ".py",
   "mimetype": "text/x-python",
   "name": "python",
   "nbconvert_exporter": "python",
   "pygments_lexer": "ipython3",
   "version": "3.7.1"
  }
 },
 "nbformat": 4,
 "nbformat_minor": 2
}

{
 "cells": [
  {
   "cell_type": "markdown",
   "metadata": {},
   "source": [
    "# Sprawozdanie z laboratorium - sieci neuronowe\n",
    "\n",
    "Temat: Plant Seedlings Classification\n",
    "\n",
    "Skład grupy: Julia Blicharska, Weronika Deleżuch, Aleksandra Zalewska"
   ]
  },
  {
   "cell_type": "markdown",
   "metadata": {},
   "source": [
    "## Opis zadania\n",
    "\n",
    "- Na czym polega zadanie:\n",
    " \n",
    "Naszym zadaniem jest stworzenie sieci, która na podstawie zdjęć rozpozna gatunek danej rośliny.\n",
    "\n",
    "- Informacje domenowe:\n",
    "\n",
    "https://www.kaggle.com/c/plant-seedlings-classification/overview\n",
    "\n",
    "- Cel:\n",
    "\n",
    "Nasz model ma przypisywać wgranym zdjęciom nazwę odpowiedniego gatunku sadzonki widocznej na danej ilustracji.\n",
    "\n",
    "\n",
    "\n",
    "\n",
    "\n",
    "\n",
    "\n"
   ]
  },
  {
   "cell_type": "markdown",
   "metadata": {},
   "source": [
    "## Dane\n",
    "\n",
    "Danymi jest zbiór zdjęć sadzonek roślin na różnym poziomie rozwoju. Sadzonek jest 12 gatunków."
   ]
  },
  {
   "cell_type": "markdown",
   "metadata": {},
   "source": [
    "### Źródła danych\n",
    "\n",
    "https://www.kaggle.com/c/plant-seedlings-classification/data\n",
    "\n",
    "Dane pochodzą z platformy Kaggle. Są ogólnodostępne dla każdego po utworzeniu konta na Kaggle.\n"
   ]
  },
  {
   "cell_type": "markdown",
   "metadata": {},
   "source": [
    "### Analiza danych\n",
    "\n",
    "*Dane treningowe\n",
    "\n",
    "Mamy 4763 zdjęć sadzonek, które są podzielone na foldery wg gatunków.\n",
    "\n",
    "*Dane testowe\n",
    "\n",
    "W tej grupie mamy 794 zdjęć, na nich będziemy testować czy nasz model został dobrze wytrenowany i czy sieć działa poprawnie.\n",
    "\n"
    ]
  },
    
  {
   "cell_type": "markdown",
   "metadata": {},
   "source": [
    "## Model\n",
    "\n",
    "* Rodzaj sieci neuronowej (i dlaczego)\n",
    "Wybrałyśmy sieć konwolucyjną - CNN.\n",
    "Jest to struktura wykorzystywana w zadaniach dotyczących rozpoznawania obrazów.\n",
    "Głębokie sieci konwolucyjne (CNN) potrafią stopniowo filtrować różne części danych uczących i wyostrzać ważne cechy w procesie dyskryminacji wykorzystanym do rozpoznawania lub klasyfikacji wzorców.\n",
    "\n",
    "* Wczytanie danych\n",
    "\n",
    "* Pobranie bibliotek\n",
    "\n",
    "* Nadanie klas zdjęciom \n",
    "\n",
    "* Ustawienie jednakowych rozmiarów dla wszystkich zdjęć \n",
    "\n"
    ]
  },
   {
   "cell_type": "markdown",
   "metadata": {},
   "source": [
    "### Działanie",
    "\n",
    "* jak uruchomić model\n",
    "\n",
    "Oczyszczamy zdjęcia usuwając z nich szum i zostają tylko elementy zielone.\n",
    "\n",
    "Przybliżamy obrazki i wyostrzamy je oraz dzielimy.\n",
    "\n",
    "Siec przypisuje zdjęcia do danego gatunku.\n",
    "\n",
    "* testy\n",
    "Sprawdzamy nasz model.\n",
    "\n",
    "Wyszła ok 85% poprawność.\n",
    "\n",
    "* wyniki\n",
    "\n",
    "Model przypisuje obrazkowi odpowiedni gatunek.\n"
   ]
  },
  {
   "cell_type": "markdown",
   "metadata": {},
   "source": [
    "## Podsumowanie\n",
    "\n",
    "Stworzyłyśmy model, który dopasowuje sadzonkę na zdjęciu do odpowiedniego gatunku. Po przetestowaniu modelu wiemy, że jest on dość dokładny i nie powinien robić wielu pomyłek.\n"
   ]
  }
 ],
 "metadata": {
  "kernelspec": {
   "display_name": "Python 3",
   "language": "python",
   "name": "python3"
  },
  "language_info": {
   "codemirror_mode": {
    "name": "ipython",
    "version": 3
   },
   "file_extension": ".py",
   "mimetype": "text/x-python",
   "name": "python",
   "nbconvert_exporter": "python",
   "pygments_lexer": "ipython3",
   "version": "3.7.4"
  }
 },
 "nbformat": 4,
 "nbformat_minor": 4
}
